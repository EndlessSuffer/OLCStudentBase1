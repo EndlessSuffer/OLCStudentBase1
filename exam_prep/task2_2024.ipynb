{
 "cells": [
  {
   "cell_type": "code",
   "execution_count": 1,
   "id": "3095c543",
   "metadata": {},
   "outputs": [],
   "source": [
    "list_usernames = [\"StudentNo1\",\"JaneJones\",\"ABC123\"]\n",
    "username = input(\"Please enter a username: \")\n",
    "password = input(\"Please enter a password: \")"
   ]
  },
  {
   "cell_type": "code",
   "execution_count": null,
   "metadata": {},
   "outputs": [
    {
     "name": "stdout",
     "output_type": "stream",
     "text": [
      "['StudentNo1', 'JaneJones', 'ABC123', 'sdfghjkl']\n"
     ]
    }
   ],
   "source": [
    "#Task 2.1\n",
    "list_usernames = [\"StudentNo1\",\"JaneJones\",\"ABC123\"]\n",
    "password = input(\"Please enter a password: \")\n",
    "while True:\n",
    "    username = input(\"Please enter a username: \")\n",
    "    if username not in list_usernames:\n",
    "        list_usernames.append(username)\n",
    "        print(\"Username saved.\")\n",
    "        break\n",
    "    print(f\"{username} already exists. Enter another username.\")\n",
    "\n"
   ]
  },
  {
   "cell_type": "code",
   "execution_count": null,
   "metadata": {},
   "outputs": [
    {
     "name": "stdout",
     "output_type": "stream",
     "text": [
      "Username saved.\n",
      "The password is invalid. It needs to contain at least one special character, one number and eight characters.\n",
      "The password is invalid. It needs to contain at least one special character, one number and eight characters.\n",
      "The password is invalid. It needs to contain at least one special character, one number and eight characters.\n",
      "asdhasjfhjashfjah@0 is valid.\n"
     ]
    }
   ],
   "source": [
    "#Task 2.2\n",
    "list_usernames = [\"StudentNo1\",\"JaneJones\",\"ABC123\"]\n",
    "while True:\n",
    "    username = input(\"Please enter a username: \")\n",
    "    if username not in list_usernames:\n",
    "        list_usernames.append(username)\n",
    "        print(\"Username saved.\")\n",
    "        break\n",
    "    print(f\"{username} already exists. Enter another username.\")\n",
    "\n",
    "special= [\"@\",\"!\",\"/\",\"?\"]\n",
    "has_num=False\n",
    "has_spec= False\n",
    "has_least= False\n",
    "while True:\n",
    "    password = input(\"Please enter a password: \")\n",
    "    if len(password)>7:\n",
    "        has_least= True\n",
    "    for char in password:\n",
    "        if char in special:\n",
    "            has_spec= True\n",
    "        if char.isdigit:\n",
    "            has_num=True\n",
    "    if has_num and has_spec and has_least:\n",
    "        print(f\"{password} is valid.\")\n",
    "        break\n",
    "    else:\n",
    "        print(\"The password is invalid. It needs to contain at least one special character, one number and eight characters.\")\n",
    "    \n"
   ]
  }
 ],
 "metadata": {
  "kernelspec": {
   "display_name": ".venv",
   "language": "python",
   "name": "python3"
  },
  "language_info": {
   "codemirror_mode": {
    "name": "ipython",
    "version": 3
   },
   "file_extension": ".py",
   "mimetype": "text/x-python",
   "name": "python",
   "nbconvert_exporter": "python",
   "pygments_lexer": "ipython3",
   "version": "3.11.2"
  }
 },
 "nbformat": 4,
 "nbformat_minor": 5
}
