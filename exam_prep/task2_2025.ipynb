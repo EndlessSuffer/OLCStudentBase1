{
 "cells": [
  {
   "cell_type": "code",
   "execution_count": null,
   "id": "17eea1d6",
   "metadata": {},
   "outputs": [],
   "source": [
    "capital_cities = {\n",
    " 'singapore':'Singapore',\n",
    " 'japan':'Tokyo',\n",
    " 'australia':'Canberra',\n",
    " 'england':'London',\n",
    " 'france':'Paris',\n",
    " 'germany':'Berlin'\n",
    "}\n",
    "country = input(\"Please enter the name of a country: \")\n",
    "remove = input(\"Would you like to remove any of the entries? (Y or N): \")\n",
    "add = input(\"Would you like to add a new entry? (Y or N): \")\n"
   ]
  },
  {
   "cell_type": "code",
   "execution_count": null,
   "metadata": {},
   "outputs": [
    {
     "name": "stdout",
     "output_type": "stream",
     "text": [
      "Country does not exist in the dictionary.\n"
     ]
    }
   ],
   "source": [
    "# Task 3.1\n",
    "capital_cities = {\n",
    " 'singapore':'Singapore',\n",
    " 'japan':'Tokyo',\n",
    " 'australia':'Canberra',\n",
    " 'england':'London',\n",
    " 'france':'Paris',\n",
    " 'germany':'Berlin'\n",
    "}\n",
    "country = input(\"Please enter the name of a country: \").lower()\n",
    "if country in capital_cities:\n",
    "    print(f\"The captial of {country} is {capital_cities[country]}\")\n",
    "else:\n",
    "    print(\"Country does not exist in the entry.\")\n",
    "    \n",
    "remove = input(\"Would you like to remove any of the entries? (Y or N): \")\n",
    "add = input(\"Would you like to add a new entry? (Y or N): \")\n",
    "if country in capital_cities:\n",
    "    print(f\"The captial of {country} is {capital_cities[country]}\")\n",
    "else:\n",
    "    print(\"Country does not exist in the entry.\")"
   ]
  },
  {
   "cell_type": "code",
   "execution_count": null,
   "metadata": {},
   "outputs": [
    {
     "name": "stdout",
     "output_type": "stream",
     "text": [
      "Country does not exist in the entry.\n",
      "{'singapore': 'Singapore', 'japan': 'Tokyo', 'australia': 'Canberra', 'france': 'Paris', 'germany': 'Berlin'}\n"
     ]
    }
   ],
   "source": [
    "#Task 3.2\n",
    "capital_cities = {\n",
    " 'singapore':'Singapore',\n",
    " 'japan':'Tokyo',\n",
    " 'australia':'Canberra',\n",
    " 'england':'London',\n",
    " 'france':'Paris',\n",
    " 'germany':'Berlin'\n",
    "}\n",
    "country = input(\"Please enter the name of a country: \").lower()\n",
    "if country in capital_cities:\n",
    "    print(f\"The captial of {country} is {capital_cities[country]}\")\n",
    "else:\n",
    "    print(\"Country does not exist in the entry.\")\n",
    "\n",
    "remove = input(\"Would you like to remove any of the entries? (Y or N): \").upper()\n",
    "if remove==\"Y\":\n",
    "    remove_country=input(\"Enter the country that you want to remove: \").lower()\n",
    "    if remove_country in capital_cities:\n",
    "        del capital_cities[remove_country]\n",
    "    else:\n",
    "        print(f\"The {remove_country} does not exist in the entry.\")\n",
    "        \n",
    "\n",
    "add = input(\"Would you like to add a new entry? (Y or N): \")\n",
    "iemove_country in capital_cities:\n",
    "        del capital_cities[remove_country]\n",
    "    else:\n",
    "        print(f\"The {remove_country} does not exist in the entry.\")"
   ]
  },
  {
   "cell_type": "code",
   "execution_count": 9,
   "metadata": {},
   "outputs": [
    {
     "name": "stdout",
     "output_type": "stream",
     "text": [
      "Country does not exist in the entry.\n",
      "Country: singapore, Capital: Singapore\n",
      "Country: japan, Capital: Tokyo\n",
      "Country: australia, Capital: Canberra\n",
      "Country: england, Capital: London\n",
      "Country: france, Capital: Paris\n",
      "Country: germany, Capital: Berlin\n",
      "Country: apple, Capital: naaa\n"
     ]
    }
   ],
   "source": [
    "#Task 3.3\n",
    "capital_cities = {\n",
    " 'singapore':'Singapore',\n",
    " 'japan':'Tokyo',\n",
    " 'australia':'Canberra',\n",
    " 'england':'London',\n",
    " 'france':'Paris',\n",
    " 'germany':'Berlin'\n",
    "}\n",
    "country = input(\"Please enter the name of a country: \").lower()\n",
    "remove = input(\"Would you like to remove any of the entries? (Y or N): \").upper()\n",
    "add = input(\"Would you like to add a new entry? (Y or N): \")\n",
    "if country in capital_cities:\n",
    "    print(f\"The captial of {country} is {capital_cities[country]}\")\n",
    "else:\n",
    "    print(\"Country does not exist in the entry.\")\n",
    "if remove==\"Y\":\n",
    "    remove_country=input(\"Enter the country that you want to remove: \").lower()\n",
    "    if remove_country in capital_cities:\n",
    "        del capital_cities[remove_country]\n",
    "    else:\n",
    "        print(f\"The {remove_country} does not exist in the entry.\")\n",
    "if add ==\"Y\":\n",
    "    add_country=input(\"Enter the country that you want to add: \").lower()\n",
    "    add_capital=input(\"Enter the capital that you want to add: \")\n",
    "    capital_cities[add_country]=add_capital\n",
    "for countrys,capitals in capital_cities.items():\n",
    "    print(f\"Country: {countrys}, Capital: {capitals}\")    \n"
   ]
  }
 ],
 "metadata": {
  "kernelspec": {
   "display_name": ".venv",
   "language": "python",
   "name": "python3"
  },
  "language_info": {
   "codemirror_mode": {
    "name": "ipython",
    "version": 3
   },
   "file_extension": ".py",
   "mimetype": "text/x-python",
   "name": "python",
   "nbconvert_exporter": "python",
   "pygments_lexer": "ipython3",
   "version": "3.11.2"
  }
 },
 "nbformat": 4,
 "nbformat_minor": 5
}
