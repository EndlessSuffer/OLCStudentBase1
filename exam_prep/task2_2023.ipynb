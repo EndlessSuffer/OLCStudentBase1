{
 "cells": [
  {
   "cell_type": "code",
   "execution_count": null,
   "id": "86aa4749",
   "metadata": {},
   "outputs": [],
   "source": [
    "num_of_animals = 5 \n",
    "for x in range(num_of_animals): \n",
    "    p1_animal = input(\"Player 1, please enter an animal: \") \n",
    "    p1_animal = p1_animal.lower() \n",
    "    p2_guess = input(\"Player 2, please enter your guess: \") \n",
    "    p2_guess = p2_guess.lower() \n"
   ]
  },
  {
   "cell_type": "code",
   "execution_count": null,
   "metadata": {},
   "outputs": [
    {
     "name": "stdout",
     "output_type": "stream",
     "text": [
      "Added sdfghjkl to the list.\n",
      "Added lkjhgfds to the list.\n",
      "Added tgv to the list.\n",
      "Added iwjhdbfv to the list.\n",
      "Player 1 turn has ended.\n",
      "['sdfghjkl', 'lkjhgfds', 'tgv', 'iwjhdbfv']\n"
     ]
    }
   ],
   "source": [
    "#Task 1.1 - checked\n",
    "num_of_animals = 5 \n",
    "p1_list=[]\n",
    "while True:\n",
    "    p1_animal = input(\"Player 1, please enter an animal. Enter q to stop: \").lower()\n",
    "    \n",
    "    if p1_animal== \"q\":\n",
    "        print(\"Player 1 turn has ended.\")\n",
    "        break\n",
    "    else:\n",
    "        p1_list.append(p1_animal)\n",
    "        print(f\"Added {p1_animal} to the list.\")\n",
    "\n",
    "p2_guess = input(\"Player 2, please enter your guess: \") \n",
    "p2_guess = p2_guess.lower()\n"
   ]
  },
  {
   "cell_type": "code",
   "execution_count": null,
   "metadata": {},
   "outputs": [
    {
     "name": "stdout",
     "output_type": "stream",
     "text": [
      "Added a to the list.\n",
      "Added b to the list.\n",
      "Added c to the list.\n",
      "Player 1 turn has ended.\n",
      "1\n",
      "['a', 'b']\n"
     ]
    }
   ],
   "source": [
    "#Task 1.2\n",
    "num_of_animals = 5 \n",
    "p1_list=[]\n",
    "score=0\n",
    "while True:\n",
    "    p1_animal = input(\"Player 1, please enter an animal. Enter q to stop: \").lower()\n",
    "    \n",
    "    if p1_animal== \"q\":\n",
    "        print(\"Player 1 turn has ended.\")\n",
    "        break\n",
    "    else:\n",
    "        p1_list.append(p1_animal)\n",
    "        print(f\"Added {p1_animal} to the list.\")\n",
    "\n",
    "p2_guess = input(\"Player 2, please enter your guess: \") \n",
    "p2_guess = p2_guess.lower()\n",
    "\n",
    "# if p2_guess in p1_list:\n",
    "#     score+=1\n",
    "#     p1_list.remove(p2_guess)\n",
    "\n",
    "for i in p1_list:\n",
    "    if p2_guess==i:\n",
    "        score+=1\n",
    "        p1_list.remove(i)\n",
    "print(score)\n",
    "print(p1_list)"
   ]
  },
  {
   "cell_type": "code",
   "execution_count": null,
   "metadata": {},
   "outputs": [
    {
     "name": "stdout",
     "output_type": "stream",
     "text": [
      "Added lion to the list.\n",
      "Added monkey to the list.\n",
      "Player 1 turn has ended.\n",
      "Game Over!\n",
      "Player 2 score is 2\n",
      "The animals still in the list are []\n"
     ]
    }
   ],
   "source": [
    "#Task 1.3\n",
    "num_of_animals = 5 \n",
    "p1_list=[]\n",
    "score=0\n",
    "\n",
    "while True:\n",
    "    p1_animal = input(\"Player 1, please enter an animal. Enter q to stop: \").lower()\n",
    "    \n",
    "    if p1_animal== \"q\":\n",
    "        print(\"Player 1 turn has ended.\")\n",
    "        break\n",
    "    else:\n",
    "        p1_list.append(p1_animal)\n",
    "        print(f\"Added {p1_animal} to the list.\")\n",
    "count=len(p1_list)\n",
    "while True:\n",
    "    p2_guess = input(\"Player 2, please enter your guess: \").lower()\n",
    "\n",
    "    if p2_guess in p1_list:\n",
    "        score+=1\n",
    "        p1_list.remove(p2_guess)\n",
    "\n",
    "        # check if no more items\n",
    "        if len(p1_list) == 0:\n",
    "            print(\"You won!\")\n",
    "            break\n",
    "    else:\n",
    "        print(\"You lost.\")\n",
    "        print(f\"Your score is {score}\")\n",
    "        for a in p1_list:\n",
    "            print(f\"You did not guess {a}. \")\n",
    "        break\n",
    "\n",
    "    \n",
    "#     if p2_guess in p1_list:\n",
    "#         score+=1\n",
    "#         p1_list.remove(p2_guess)\n",
    "#     elif p2_guess not in p1_list:\n",
    "#         print(\"Game Over!\")\n",
    "#         count=-1\n",
    "#         break\n",
    "#     elif count==0:\n",
    "#         print(\"You guessed it all right!\")\n",
    "#         break\n",
    "# print(f\"Player 2 score is {score}\")\n",
    "# print(f\"The animals still in the list are {p1_list}\")\n",
    "\n",
    "\n"
   ]
  },
  {
   "cell_type": "code",
   "execution_count": null,
   "metadata": {},
   "outputs": [],
   "source": [
    "firstname = input(\"Please enter your first name: \").lower()\n",
    "lastname = input(\"Please enter your last name: \").lower()\n",
    "email_id = firstname[:3] + lastname + \"@example.com\"\n",
    "print(\"Your email id is\" + email_id)"
   ]
  },
  {
   "cell_type": "code",
   "execution_count": null,
   "metadata": {},
   "outputs": [],
   "source": [
    "#Task 2.1\n",
    "firstname = input(\"Please enter your first name: \").lower()\n",
    "lastname = input(\"Please enter your last name: \").lower()\n",
    "email_id = firstname[0] + lastname[-3:] + \"@example.com\"\n",
    "print(\"Your email id is\" + email_id)"
   ]
  },
  {
   "cell_type": "code",
   "execution_count": null,
   "metadata": {},
   "outputs": [
    {
     "name": "stdout",
     "output_type": "stream",
     "text": [
      "Your email id isdong@example.com\n",
      "Valid format.\n"
     ]
    }
   ],
   "source": [
    "#Task 2.2\n",
    "firstname = input(\"Please enter your first name: \").lower()\n",
    "lastname = input(\"Please enter your last name: \").lower()\n",
    "email_id = firstname[0] + lastname[-3:] + \"@example.com\"\n",
    "print(\"Your email id is \" + email_id)\n",
    "\n",
    "while True:\n",
    "    check_id= input(\"Enter the generated email address: \")\n",
    "    if check_id.find(\"@\") == -1:\n",
    "        print(\"Error: No @ found\")\n",
    "    elif check_id.find(\".\") == -1:\n",
    "        print(\"Error: No . found\")\n",
    "    elif check_id != email_id:\n",
    "        print(\"The email address is incorrect.\")\n",
    "    else:\n",
    "        print(\"Valid format.\")\n",
    "        break"
   ]
  },
  {
   "cell_type": "code",
   "execution_count": null,
   "metadata": {},
   "outputs": [
    {
     "name": "stdout",
     "output_type": "stream",
     "text": [
      "Your email id is aapp@example.com\n",
      "Valid format.\n"
     ]
    },
    {
     "ename": "NameError",
     "evalue": "name 'random' is not defined",
     "output_type": "error",
     "traceback": [
      "\u001b[31m---------------------------------------------------------------------------\u001b[39m",
      "\u001b[31mNameError\u001b[39m                                 Traceback (most recent call last)",
      "\u001b[36mCell\u001b[39m\u001b[36m \u001b[39m\u001b[32mIn[4]\u001b[39m\u001b[32m, line 16\u001b[39m\n\u001b[32m     14\u001b[39m         \u001b[38;5;28mprint\u001b[39m(\u001b[33m\"\u001b[39m\u001b[33mValid format.\u001b[39m\u001b[33m\"\u001b[39m)\n\u001b[32m     15\u001b[39m         \u001b[38;5;28;01mbreak\u001b[39;00m\n\u001b[32m---> \u001b[39m\u001b[32m16\u001b[39m up_letter= \u001b[38;5;28mchr\u001b[39m(\u001b[43mrandom\u001b[49m.randint(\u001b[32m65\u001b[39m,\u001b[32m90\u001b[39m))\n\u001b[32m     17\u001b[39m low_letter= \u001b[38;5;28mchr\u001b[39m(random.randint(\u001b[32m97\u001b[39m,\u001b[32m122\u001b[39m))\n\u001b[32m     18\u001b[39m digit= \u001b[38;5;28mchr\u001b[39m(random.randint(\u001b[32m48\u001b[39m,\u001b[32m57\u001b[39m))\n",
      "\u001b[31mNameError\u001b[39m: name 'random' is not defined"
     ]
    }
   ],
   "source": [
    "#Task 2.3\n",
    "import random\n",
    "firstname = input(\"Please enter your first name: \").lower()\n",
    "lastname = input(\"Please enter your last name: \").lower()\n",
    "email_id = firstname[0] + lastname[-3:] + \"@example.com\"\n",
    "print(\"Your email id is \" + email_id)\n",
    "\n",
    "while True:\n",
    "    check_id= input(\"Enter the generated email address: \")\n",
    "    if check_id.find(\"@\") == -1:\n",
    "        print(\"Error: No @ found\")\n",
    "    elif check_id.find(\".\") == -1:\n",
    "        print(\"Error: No . found\")\n",
    "    else:\n",
    "        print(\"Valid format.\")\n",
    "        break\n",
    "password=\"\"\n",
    "up_letter= chr(random.randint(65,90))\n",
    "low_letter= chr(random.randint(97,122))\n",
    "digit= chr(random.randint(48,57))\n",
    "for i in range(5):\n",
    "    choice=random.randint(1,3)\n",
    "    "
   ]
  }
 ],
 "metadata": {
  "kernelspec": {
   "display_name": ".venv",
   "language": "python",
   "name": "python3"
  },
  "language_info": {
   "codemirror_mode": {
    "name": "ipython",
    "version": 3
   },
   "file_extension": ".py",
   "mimetype": "text/x-python",
   "name": "python",
   "nbconvert_exporter": "python",
   "pygments_lexer": "ipython3",
   "version": "3.11.2"
  }
 },
 "nbformat": 4,
 "nbformat_minor": 5
}
